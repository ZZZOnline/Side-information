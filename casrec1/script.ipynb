{
 "cells": [
  {
   "cell_type": "code",
   "execution_count": 14,
   "metadata": {},
   "outputs": [],
   "source": [
    "import os\n",
    "# os.getcwd()\n",
    "os.chdir('/dev-data/zzz/supplementary/casr100/')"
   ]
  },
  {
   "cell_type": "code",
   "execution_count": 4,
   "metadata": {},
   "outputs": [],
   "source": [
    "import torch\n",
    "import numpy as np\n",
    "import pytorch_lightning as pl\n",
    "from torch.utils.data import *\n",
    "import sys\n",
    "import os\n",
    "import datetime\n",
    "import pickle\n",
    "\n",
    "def str2bool(s):\n",
    "    if s not in {'false', 'true'}:\n",
    "        raise ValueError('Not a valid boolean string')\n",
    "    return s == 'true'\n",
    "import argparse\n",
    "import datetime\n",
    "\n",
    "\n",
    "from new_utils import *\n",
    "parser = argparse.ArgumentParser()\n",
    "\n",
    "\n",
    "parser.add_argument('--batch_size', default=128, type=int) #mat1(a,b)->a\n",
    "parser.add_argument('--beam_size', type=int, default=10)\n",
    "\n",
    "\n",
    "parser.add_argument('--cuda', type=int, default=0)\n",
    "parser.add_argument('--data_name', default=None, type=str)\n",
    "\n",
    "parser.add_argument('--dataset',  default='None', type=str)\n",
    "parser.add_argument('--datasets',  default='sub_taobao', type=str)\n",
    "parser.add_argument('--device', default='cuda', type=str)\n",
    "parser.add_argument('--dropout_rate', default=0.25, type=float)\n",
    "parser.add_argument(\"--embedding_dim\", type=int, default=64,\n",
    "                     help=\"using embedding\")\n",
    "parser.add_argument('--hidden_units', default=64, type=int)\n",
    "parser.add_argument('--hidden_size', default=64, type=int)\n",
    "parser.add_argument('--incatemaxlen', type=int, default=10)\n",
    "\n",
    "\n",
    "parser.add_argument('--lastk', type=int, default=5)\n",
    "parser.add_argument('--lr', default=.001, type=float)\n",
    "parser.add_argument('--l2_emb', default=0.005, type=float)\n",
    "parser.add_argument('--maxlen', type=int, default=50)\n",
    "parser.add_argument('--model', type=str, default='casr')\n",
    "\n",
    "\n",
    "parser.add_argument('--num_layers', default=2, type=int)\n",
    "parser.add_argument('--num_epochs', default=100, type=int)\n",
    "parser.add_argument('--num_heads', default=2, type=int)\n",
    "parser.add_argument('--num_blocks', default=2, type=int)\n",
    "\n",
    "\n",
    "parser.add_argument('--optimizer_type', default='Adagrad', type=str)\n",
    "parser.add_argument('--recall', default=[5, 10, 20, 50], type=list)\n",
    "\n",
    "\n",
    "\n",
    "parser.add_argument(\"--seed\", type=int, default=5,\n",
    "                     help=\"Seed for random initialization\")\n",
    "\n",
    "\n",
    "parser.add_argument(\"-sigma\", type=float, default=None,\n",
    "                     help=\"init weight -1: range [-sigma, sigma], -2: range [0, sigma]\")\n",
    "parser.add_argument('--state_dict_path', default=None, type=str)\n",
    "\n",
    "parser.add_argument('--time_bucket', type=int, default=64)\n",
    "parser.add_argument('--time_span', type=int, default=64)\n",
    "parser.add_argument('--topkc', default=1, type=int)\n",
    "\n",
    "\n",
    "args, _ = parser.parse_known_args()\n"
   ]
  },
  {
   "cell_type": "code",
   "execution_count": 11,
   "metadata": {},
   "outputs": [],
   "source": [
    "import re\n",
    "import os\n",
    "import sys\n",
    "import yaml\n",
    "def _load_config_files(file_list):\n",
    "    file_config_dict = dict()\n",
    "    if file_list:\n",
    "        for file in file_list:\n",
    "            with open(file, 'r', encoding='utf-8') as f:\n",
    "                file_config_dict.update(yaml.load(f.read(), Loader=yaml.FullLoader))\n",
    "    return file_config_dict\n"
   ]
  },
  {
   "cell_type": "code",
   "execution_count": 15,
   "metadata": {},
   "outputs": [],
   "source": [
    "config = _load_config_files(['./configs/ijcai.yaml'])"
   ]
  },
  {
   "cell_type": "code",
   "execution_count": 16,
   "metadata": {},
   "outputs": [
    {
     "data": {
      "text/plain": [
       "'1e-12'"
      ]
     },
     "execution_count": 16,
     "metadata": {},
     "output_type": "execute_result"
    }
   ],
   "source": [
    "config['layer_norm_eps']"
   ]
  },
  {
   "cell_type": "code",
   "execution_count": 17,
   "metadata": {},
   "outputs": [],
   "source": [
    "a = 1e-12"
   ]
  },
  {
   "cell_type": "code",
   "execution_count": 19,
   "metadata": {},
   "outputs": [
    {
     "data": {
      "text/plain": [
       "1.000000000001"
      ]
     },
     "execution_count": 19,
     "metadata": {},
     "output_type": "execute_result"
    }
   ],
   "source": [
    "a+1"
   ]
  },
  {
   "cell_type": "code",
   "execution_count": 2,
   "metadata": {},
   "outputs": [
    {
     "name": "stdout",
     "output_type": "stream",
     "text": [
      "Preparing data...\n",
      " './dataset/sub_taobao/' exists\n",
      "average item sequence length: 30.57\n",
      "duration  0:00:06.858928\n",
      "try\n",
      "try\n",
      "try\n"
     ]
    }
   ],
   "source": [
    "\n",
    "\n",
    "\n",
    "\n",
    "\n",
    "\n",
    "def str2bool(s):\n",
    "    if s not in {'false', 'true'}:\n",
    "        raise ValueError('Not a valid boolean string')\n",
    "    return s == 'true'\n",
    "import argparse\n",
    "import datetime\n",
    "\n",
    "\n",
    "\n",
    "np.random.seed(args.seed)\n",
    "if args.device == 'cuda':\n",
    "    torch.cuda.manual_seed(args.seed)\n",
    "    torch.cuda.manual_seed_all(args.seed)\n",
    "\n",
    "def init_model(model):\n",
    "    if args.sigma is not None:\n",
    "        for p in model.parameters():\n",
    "            if args.sigma != -1 and args.sigma != -2:\n",
    "                sigma = args.sigma\n",
    "                p.data.uniform_(-sigma, sigma)\n",
    "            elif len(list(p.size())) > 1:\n",
    "                sigma = np.sqrt(6.0 / (p.size(0) + p.size(1)))\n",
    "                if args.sigma == -1:\n",
    "                    p.data.uniform_(-sigma, sigma)\n",
    "                else:\n",
    "                    p.data.uniform_(0, sigma)\n",
    "\n",
    "def count_parameters(model):\n",
    "    parameter_num = sum(p.numel() for p in model.parameters() if p.requires_grad)\n",
    "    print(\"parameter_num\", parameter_num) \n",
    "\n",
    "\n",
    "batch_size = args.batch_size\n",
    "lr = args.lr\n",
    "\n",
    "\n",
    "\n",
    "\n",
    "\n",
    "st = datetime.datetime.now()\n",
    "\n",
    "\n",
    "if args.datasets =='sub_taobao':\n",
    "    args.dataset = './data/subtb_10_50.csv'\n",
    "    User = dataall_partition_last(args.dataset)\n",
    "\n",
    "\n",
    "if args.datasets =='ijcai':\n",
    "    args.dataset = '/dev-data/zzz/207/multibehavior/dataset/ijcai/mergedijcai_10_300.csv'\n",
    "    User = dataall_partition_last(args.dataset)\n",
    "    args.batch_size = 32\n",
    "    args.beam_size=50\n",
    "\n",
    "if args.datasets =='retail':\n",
    "    args.dataset = '/dev-data/zzz/207/multibehavior/dataset/Retail/mergedmultiretail_10_300.csv'\n",
    "    # args.lr = 0.001\n",
    "    User = dataall_partition_last(args.dataset)\n",
    "    args.batch_size = 512\n",
    "\n",
    "    args.beam_size=5\n",
    "\n",
    "\n",
    "if args.datasets =='smalltaobao':\n",
    "    args.dataset = '/dev-data/zzz/207/multibehavior/dataset/taobao/mergedmultismalltb_10_40.csv'\n",
    "    User = dataall_partition_last(args.dataset)\n",
    "\n",
    "if args.datasets =='taobao':\n",
    "    args.dataset = '/dev-data/zzz/207/multibehavior/dataset/taobao/mergedmultitaobao.csv'\n",
    "    User = dataall_partition_last(args.dataset)\n",
    "    args.batch_size = 128\n",
    "    args.beam_size=50\n",
    "\n",
    "directory = './dataset/'+args.datasets+'/'\n",
    "\n",
    "if not os.path.exists(directory):\n",
    "    os.mkdir(directory)  # 如果目录不存在，则创建它\n",
    "    print(f\"'{directory}' created\" )\n",
    "else:\n",
    "    print(f\" '{directory}' exists\")\n",
    "\n",
    "item_res_train, cate_res_train,  item_res_valid, cate_res_valid, item_res_test, cate_res_test,  usernum,  itemnum, catenum= datatimenormalizelast(User)\n",
    "\n",
    "num_batch = len(item_res_train) // args.batch_size\n",
    "cc = 0.0\n",
    "for u in item_res_train:\n",
    "    cc += len(item_res_train[u])\n",
    "print('average item sequence length: %.2f' % (cc / len(item_res_train)))\n",
    "\n",
    "\n",
    "\n",
    "item_res_all = dict()\n",
    "cate_res_all = dict()\n",
    "\n",
    "item_res_eval = dict()\n",
    "cate_res_eval = dict()\n",
    "for user in range(1,usernum+1):\n",
    "    item_res_all[user] = item_res_train[user] + item_res_valid[user] + item_res_test[user]\n",
    "    cate_res_all[user] = cate_res_train[user] + cate_res_valid[user] + cate_res_test[user]\n",
    "\n",
    "for user in range(1,usernum+1):\n",
    "    item_res_eval[user] = item_res_train[user] + item_res_valid[user] \n",
    "    cate_res_eval[user] = cate_res_train[user] + cate_res_valid[user] \n",
    "\n",
    "\n",
    "\n",
    "# time_point = generate_timepointfromtime(time_res_all, args.time_bucket)\n",
    "\n",
    "\n",
    "\n",
    "et = datetime.datetime.now()\n",
    "print(\"duration \", et-st)\n",
    "dataloader = lastslow_newDataloader()\n",
    "try:\n",
    "    print('try')\n",
    "    with open('./dataset/%s/dataloader_%d_train%d.pickle'%(args.datasets, args.maxlen,  args.batch_size),\"rb\") as f:\n",
    "        wswe= pickle.load(f)\n",
    "    dataloader.load(wswe, args)\n",
    "\n",
    "except Exception as e:\n",
    "    print(e.args)\n",
    "    print('init1')\n",
    "    dataloader.init(item_res_train, cate_res_train,  usernum, args.batch_size, 5, args.maxlen, args.incatemaxlen)\n",
    "\n",
    "    with open('./dataset/%s/dataloader_%d_train%d.pickle'%(args.datasets, args.maxlen, args.batch_size),\"wb\") as f:\n",
    "        pickle.dump(dataloader.dataset, f)\n",
    "\n",
    "[usetensors, itemytensors, cateytensors,  itemseqtensors, cateseqtensors, padincateitemtensors, padcatesettensors, itemyseqtensors, cateyseqtensors] = zip(*dataloader.dataset)\n",
    "\n",
    "traindataset = mydataset(usetensors, itemytensors, cateytensors, itemseqtensors, cateseqtensors,  padincateitemtensors,  padcatesettensors, itemyseqtensors, cateyseqtensors, args)\n",
    "\n",
    "evaldataloader = lastslow_newevalDataloader()\n",
    "try:\n",
    "    print('try')\n",
    "    with open('./dataset/%s/dataloader_%d_eval%d.pickle'%(args.datasets, args.maxlen, args.batch_size),\"rb\") as f:\n",
    "        wswe= pickle.load(f)\n",
    "    evaldataloader.load(wswe, args)\n",
    "\n",
    "except Exception as e:\n",
    "    print(e.args)\n",
    "    print('init2')\n",
    "    evaldataloader.init(item_res_eval, cate_res_eval,  item_res_valid, usernum, args.batch_size, 5, args.maxlen, args.incatemaxlen)\n",
    "    with open('./dataset/%s/dataloader_%d_eval%d.pickle'%(args.datasets, args.maxlen, args.batch_size),\"wb\") as f:\n",
    "            pickle.dump(evaldataloader.dataset, f)\n",
    "\n",
    "[usetensors, itemytensors, cateytensors, itemseqtensors, cateseqtensors, padincateitemtensors, padcatesettensors,itemyseqtensors, cateyseqtensors] = zip(*evaldataloader.dataset)\n",
    "\n",
    "evaldataset = mydataset(usetensors, list(itemytensors), list(cateytensors), itemseqtensors, cateseqtensors, padincateitemtensors, padcatesettensors, itemyseqtensors,  cateyseqtensors,  args)\n",
    "\n",
    "testdataloader = lastslow_newevalDataloader()\n",
    "try:\n",
    "    print('try')\n",
    "    with open('./dataset/%s/dataloader_%d_test%d.pickle'%(args.datasets, args.maxlen, args.batch_size),\"rb\") as f:\n",
    "        wswe= pickle.load(f)\n",
    "    testdataloader.load(wswe, args)\n",
    "\n",
    "except Exception as e:\n",
    "    print(e.args)\n",
    "    print('init2')\n",
    "    testdataloader.init(item_res_all, cate_res_all, item_res_test, usernum, args.batch_size, 5, args.maxlen, args.incatemaxlen)\n",
    "    with open('./dataset/%s/dataloader_%d_test%d.pickle'%(args.datasets, args.maxlen, args.batch_size),\"wb\") as f:\n",
    "            pickle.dump(testdataloader.dataset, f)\n",
    "\n",
    "\n",
    "\n",
    "\n",
    "\n",
    "\n",
    "\n",
    "[usetensors, itemytensors, cateytensors, itemseqtensors, cateseqtensors, padincateitemtensors, padcatesettensors,itemyseqtensors, cateyseqtensors] = zip(*testdataloader.dataset)\n",
    "\n",
    "testdataset = mydataset(usetensors, list(itemytensors), list(cateytensors), itemseqtensors, cateseqtensors, padincateitemtensors, padcatesettensors, itemyseqtensors,  cateyseqtensors,  args)\n",
    "\n",
    "\n",
    "mydata = DataModule(traindataset, testdataset, testdataset, args)\n"
   ]
  },
  {
   "cell_type": "code",
   "execution_count": 4,
   "metadata": {},
   "outputs": [
    {
     "data": {
      "text/plain": [
       "31634"
      ]
     },
     "execution_count": 4,
     "metadata": {},
     "output_type": "execute_result"
    }
   ],
   "source": [
    "usernum"
   ]
  },
  {
   "cell_type": "code",
   "execution_count": 5,
   "metadata": {},
   "outputs": [
    {
     "name": "stdout",
     "output_type": "stream",
     "text": [
      "247\n"
     ]
    }
   ],
   "source": [
    "a =[]\n",
    "for user_seq_batch, item_y_batch, cate_y_batch,  item_seq_batch, cate_seq_batch,  pad_incateitem_seq_batch, pad_cateset_seq_batch, itemy_seq_batch, catey_seq_batch in mydata.train_dataloader():\n",
    "    a.append(torch.cat(user_seq_batch))\n",
    "print(len(a))"
   ]
  },
  {
   "cell_type": "code",
   "execution_count": 6,
   "metadata": {},
   "outputs": [
    {
     "data": {
      "text/plain": [
       "torch.Size([31616])"
      ]
     },
     "execution_count": 6,
     "metadata": {},
     "output_type": "execute_result"
    }
   ],
   "source": [
    "b = torch.cat(a)\n",
    "\n",
    "b.shape"
   ]
  }
 ],
 "metadata": {
  "kernelspec": {
   "display_name": "mulbehavior",
   "language": "python",
   "name": "python3"
  },
  "language_info": {
   "codemirror_mode": {
    "name": "ipython",
    "version": 3
   },
   "file_extension": ".py",
   "mimetype": "text/x-python",
   "name": "python",
   "nbconvert_exporter": "python",
   "pygments_lexer": "ipython3",
   "version": "3.9.7"
  },
  "orig_nbformat": 4
 },
 "nbformat": 4,
 "nbformat_minor": 2
}
